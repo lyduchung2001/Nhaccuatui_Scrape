{
 "cells": [
  {
   "cell_type": "code",
   "execution_count": 21,
   "metadata": {},
   "outputs": [
    {
     "name": "stdout",
     "output_type": "stream",
     "text": [
      "[generic] m-tp-m-tp-son-tung-m-tp-abQA9Y30?st=soR9NAq: Requesting header\n"
     ]
    },
    {
     "name": "stderr",
     "output_type": "stream",
     "text": [
      "WARNING: Could not send HEAD request to https://nhac.vn/album/m-tp-m-tp-son-tung-m-tp-abQA9Y30?st=soR9NAq: HTTP Error 403: Forbidden\n"
     ]
    },
    {
     "name": "stdout",
     "output_type": "stream",
     "text": [
      "[generic] m-tp-m-tp-son-tung-m-tp-abQA9Y30?st=soR9NAq: Downloading webpage\n"
     ]
    },
    {
     "name": "stderr",
     "output_type": "stream",
     "text": [
      "WARNING: Falling back on generic information extractor.\n"
     ]
    },
    {
     "name": "stdout",
     "output_type": "stream",
     "text": [
      "[generic] m-tp-m-tp-son-tung-m-tp-abQA9Y30?st=soR9NAq: Extracting information\n",
      "[download] Destination: m-tp M-TP - Sơn Tùng M-TP _ NHAC.VN-262676.mp3\n",
      "[download] 100% of 3.56MiB in 00:04                          \n"
     ]
    }
   ],
   "source": [
    "import youtube_dl\n",
    "\n",
    "def download_ytvid_as_mp3():\n",
    "    video_url = input(\"enter url of youtube video:\")\n",
    "    video_info = youtube_dl.YoutubeDL().extract_info(url = video_url,download=True)\n",
    "download_ytvid_as_mp3()"
   ]
  },
  {
   "cell_type": "markdown",
   "metadata": {},
   "source": []
  },
  {
   "cell_type": "code",
   "execution_count": 15,
   "metadata": {},
   "outputs": [],
   "source": [
    "import os\n",
    "from selenium import webdriver\n",
    "from selenium.webdriver.chrome.webdriver import WebDriver\n",
    "import urllib.request"
   ]
  },
  {
   "cell_type": "code",
   "execution_count": 16,
   "metadata": {},
   "outputs": [],
   "source": [
    "url = 'https://www.nhaccuatui.com/bai-hat/hay-trao-cho-anh-son-tung-m-tp-ft-snoop-dogg.vtEybe9NxLw7.html'\n",
    "path = os.path.abspath(os.getcwd())"
   ]
  },
  {
   "cell_type": "code",
   "execution_count": 17,
   "metadata": {},
   "outputs": [],
   "source": [
    "options = webdriver.ChromeOptions()\n",
    "driver: WebDriver = webdriver.Chrome()\n",
    "driver.get(url)"
   ]
  }
 ],
 "metadata": {
  "interpreter": {
   "hash": "231b793e72510f63263cf75731d759da8776d8c74c3ed2dbefa0f0827e58fa6e"
  },
  "kernelspec": {
   "display_name": "Python 3.9.12 64-bit (windows store)",
   "language": "python",
   "name": "python3"
  },
  "language_info": {
   "codemirror_mode": {
    "name": "ipython",
    "version": 3
   },
   "file_extension": ".py",
   "mimetype": "text/x-python",
   "name": "python",
   "nbconvert_exporter": "python",
   "pygments_lexer": "ipython3",
   "version": "3.9.12"
  },
  "orig_nbformat": 4
 },
 "nbformat": 4,
 "nbformat_minor": 2
}
