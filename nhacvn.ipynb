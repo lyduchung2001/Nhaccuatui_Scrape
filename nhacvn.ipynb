{
 "cells": [
  {
   "cell_type": "code",
   "execution_count": 23,
   "metadata": {},
   "outputs": [],
   "source": [
    "from bs4 import BeautifulSoup\n",
    "from selenium import webdriver\n",
    "from selenium.webdriver.common.keys import Keys\n",
    "import csv\n",
    "import requests\n",
    "import youtube_dl\n",
    "from time import sleep\n"
   ]
  },
  {
   "cell_type": "code",
   "execution_count": 24,
   "metadata": {},
   "outputs": [],
   "source": [
    "driver = webdriver.Chrome()\n",
    "\n",
    "url = 'https://nhac.vn/'\n",
    "driver.get(url)"
   ]
  },
  {
   "cell_type": "code",
   "execution_count": 39,
   "metadata": {},
   "outputs": [
    {
     "name": "stderr",
     "output_type": "stream",
     "text": [
      "C:\\Users\\Admin\\AppData\\Local\\Temp\\ipykernel_13036\\165127049.py:1: DeprecationWarning: find_element_by_xpath is deprecated. Please use find_element(by=By.XPATH, value=xpath) instead\n",
      "  search_field = driver.find_element_by_xpath('//*[@id=\"keyword\"]')\n",
      "C:\\Users\\Admin\\AppData\\Local\\Temp\\ipykernel_13036\\165127049.py:3: DeprecationWarning: find_element_by_xpath is deprecated. Please use find_element(by=By.XPATH, value=xpath) instead\n",
      "  search_field = driver.find_element_by_xpath('/html/body/div[4]/div[2]/div/div[1]/div[2]/form/input[2]')\n",
      "C:\\Users\\Admin\\AppData\\Local\\Temp\\ipykernel_13036\\165127049.py:7: DeprecationWarning: find_element_by_xpath is deprecated. Please use find_element(by=By.XPATH, value=xpath) instead\n",
      "  run_field = driver.find_element_by_xpath('//*[@id=\"main-body\"]/div[1]/div/div/div[2]/div[1]/h2/a').click()\n"
     ]
    }
   ],
   "source": [
    "search_field = driver.find_element_by_xpath('//*[@id=\"keyword\"]')\n",
    "search_field.send_keys('son tung')\n",
    "search_field = driver.find_element_by_xpath('/html/body/div[4]/div[2]/div/div[1]/div[2]/form/input[2]')\n",
    "\n",
    "search_field.send_keys(Keys.RETURN)\n",
    "\n",
    "run_field = driver.find_element_by_xpath('//*[@id=\"main-body\"]/div[1]/div/div/div[2]/div[1]/h2/a').click()\n"
   ]
  },
  {
   "cell_type": "code",
   "execution_count": 26,
   "metadata": {},
   "outputs": [
    {
     "name": "stdout",
     "output_type": "stream",
     "text": [
      "[<h3 class=\"name over-text\"><a href=\"https://nhac.vn/bai-hat/lien-khuc-son-tung-m-tp-remix-2014-son-tung-m-tp-soWvbYk\" title=\"Liên Khúc Sơn Tùng M-TP (Remix 2014)\">Liên Khúc Sơn Tùng M-TP (Remix 2014)</a></h3>, <h3 class=\"name over-text\"><a href=\"https://nhac.vn/bai-hat/nang-am-xa-dan-team-son-tung-mtp-slim-v-son-tung-m-tp-soPaom5\" title=\"Nắng Ấm Xa Dần (Team Sơn Tùng MTP - Slim V)\">Nắng Ấm Xa Dần (Team Sơn Tùng MTP - Slim V)</a></h3>, <h3 class=\"name over-text\"><a href=\"https://nhac.vn/bai-hat/thai-binh-mo-hoi-roi-team-son-tung-mtp-slim-v-dj-trang-moon-son-tung-m-tp-sokA7Mp\" title=\"Thái Bình Mồ Hôi Rơi (Team Sơn Tùng MTP - Slim V - DJ Trang Moon)\">Thái Bình Mồ Hôi Rơi (Team Sơn Tùng MTP - Slim V - DJ Trang Moon)</a></h3>, <h3 class=\"name over-text\"><a href=\"https://nhac.vn/bai-hat/em-cua-ngay-hom-qua-team-son-tung-mtp-slim-v-dj-trang-moon-son-tung-m-tp-so03YKn\" title=\"Em Của Ngày Hôm Qua (Team Sơn Tùng MTP - Slim V - DJ Trang Moon)\">Em Của Ngày Hôm Qua (Team Sơn Tùng MTP - Slim V - DJ Trang Moon)</a></h3>, <h3 class=\"name over-text\"><a href=\"https://nhac.vn/bai-hat/con-mua-ngang-qua-team-son-tung-mtp-slim-v-dj-trang-moon-son-tung-m-tp-soJnDd5\" title=\"Cơn Mưa Ngang Qua (Team Sơn Tùng MTP - Slim V - DJ Trang Moon)\">Cơn Mưa Ngang Qua (Team Sơn Tùng MTP - Slim V - DJ Trang Moon)</a></h3>, <h3 class=\"name over-text\"><a href=\"https://nhac.vn/bai-hat/chay-ngay-di-onionn-remix-son-tung-m-tp-onionn-soGLL9R\" title=\"Chạy Ngay Đi (Onionn Remix)\">Chạy Ngay Đi (Onionn Remix)</a></h3>, <h3 class=\"name over-text\"><a href=\"https://nhac.vn/bai-hat/lac-troi-triple-d-remix-son-tung-m-tp-triple-d-soojmNX\" title=\"Lạc Trôi (Triple D Remix)\">Lạc Trôi (Triple D Remix)</a></h3>, <h3 class=\"name over-text\"><a href=\"https://nhac.vn/bai-hat/con-mua-ngang-qua-part-3-son-tung-m-tp-so410V4\" title=\"Cơn Mưa Ngang Qua (Part 3)\">Cơn Mưa Ngang Qua (Part 3)</a></h3>, <h3 class=\"name over-text\"><a href=\"https://nhac.vn/bai-hat/remember-me-slimv-2017-mix-dj-slimv-son-tung-m-tp-soyNalk\" title=\"Remember Me (SlimV 2017 Mix)\">Remember Me (SlimV 2017 Mix)</a></h3>, <h3 class=\"name over-text\"><a href=\"https://nhac.vn/bai-hat/binh-yen-nhung-phut-giay-son-tung-m-tp-soNpyEz\" title=\"Bình Yên Những Phút Giây\">Bình Yên Những Phút Giây</a></h3>, <h3 class=\"name over-text\"><a href=\"https://nhac.vn/bai-hat/dung-ve-tre-son-tung-m-tp-soR940x\" title=\"Đừng Về Trễ\">Đừng Về Trễ</a></h3>, <h3 class=\"name over-text\"><a href=\"https://nhac.vn/bai-hat/buong-doi-tay-nhau-ra-son-tung-m-tp-solJ4zN\" title=\"Buông Đôi Tay Nhau Ra\">Buông Đôi Tay Nhau Ra</a></h3>, <h3 class=\"name over-text\"><a href=\"https://nhac.vn/bai-hat/anh-that-qua-ngoc-thai-lan-vien-son-tung-m-tp-sobKzW7\" title=\"Anh Thật Quá Ngốc\">Anh Thật Quá Ngốc</a></h3>, <h3 class=\"name over-text\"><a href=\"https://nhac.vn/bai-hat/nhu-ngay-hom-qua-son-tung-m-tp-soXO57D\" title=\"Như Ngày Hôm Qua\">Như Ngày Hôm Qua</a></h3>, <h3 class=\"name over-text\"><a href=\"https://nhac.vn/bai-hat/chung-ta-khong-thuoc-ve-nhau-son-tung-m-tp-soR9NAq\" title=\"Chúng Ta Không Thuộc Về Nhau\">Chúng Ta Không Thuộc Về Nhau</a></h3>, <h3 class=\"name over-text\"><a href=\"https://nhac.vn/bai-hat/noi-nay-co-anh-dj-grusi-remix-son-tung-m-tp-sobpy8P\" title=\"Nơi Này Có Anh (DJ Grusi Remix)\">Nơi Này Có Anh (DJ Grusi Remix)</a></h3>, <h3 class=\"name over-text\"><a href=\"https://nhac.vn/bai-hat/le-anh-van-roi-son-tung-m-tp-so8AExy\" title=\"Lệ Anh Vẫn Rơi\">Lệ Anh Vẫn Rơi</a></h3>, <h3 class=\"name over-text\"><a href=\"https://nhac.vn/bai-hat/mai-yeu-em-son-tung-m-tp-so3n1lA\" title=\"Mãi Yêu Em\">Mãi Yêu Em</a></h3>, <h3 class=\"name over-text\"><a href=\"https://nhac.vn/bai-hat/lac-troi-masew-trap-remix-son-tung-m-tp-soOLJEM\" title=\"Lạc Trôi (Masew Trap Remix)\">Lạc Trôi (Masew Trap Remix)</a></h3>, <h3 class=\"name over-text\"><a href=\"https://nhac.vn/bai-hat/mot-nam-moi-binh-an-son-tung-m-tp-soLa7R0\" title=\"Một Năm Mới Bình An\">Một Năm Mới Bình An</a></h3>, <h3 class=\"name over-text\"><a href=\"https://nhac.vn/bai-hat/noi-nay-co-anh-masew-bootleg-son-tung-m-tp-soLpWya\" title=\"Nơi Này Có Anh (Masew Bootleg)\">Nơi Này Có Anh (Masew Bootleg)</a></h3>, <h3 class=\"name over-text\"><a href=\"https://nhac.vn/bai-hat/tha-thu-pam-remix-son-tung-m-tp-so5ODo9\" title=\"Tha Thu (PAM Remix)\">Tha Thu (PAM Remix)</a></h3>, <h3 class=\"name over-text\"><a href=\"https://nhac.vn/bai-hat/remember-me-son-tung-m-tp-soGdv8x\" title=\"Remember Me\">Remember Me</a></h3>, <h3 class=\"name over-text\"><a href=\"https://nhac.vn/bai-hat/nang-am-xa-dan-son-tung-m-tp-so8a7\" title=\"Nắng Ấm Xa Dần\">Nắng Ấm Xa Dần</a></h3>, <h3 class=\"name over-text\"><a href=\"https://nhac.vn/bai-hat/con-mua-ngang-qua-son-tung-m-tp-so3GJ\" title=\"Cơn Mưa Ngang Qua\">Cơn Mưa Ngang Qua</a></h3>, <h3 class=\"name over-text\"><a href=\"https://nhac.vn/bai-hat/anh-sai-roi-son-tung-m-tp-so5ybnj\" title=\"Anh Sai Rồi\">Anh Sai Rồi</a></h3>, <h3 class=\"name over-text\"><a href=\"https://nhac.vn/bai-hat/mai-nay-con-lon-len-son-tung-m-tp-soOLrQ\" title=\"Mai Này Con Lớn Lên\">Mai Này Con Lớn Lên</a></h3>, <h3 class=\"name over-text\"><a href=\"https://nhac.vn/bai-hat/nhu-ngay-hom-qua-dj-ms69-remix-son-tung-m-tp-sorn1oN\" title=\"Như Ngày Hôm Qua (DJ MS69 Remix)\">Như Ngày Hôm Qua (DJ MS69 Remix)</a></h3>, <h3 class=\"name over-text\"><a href=\"https://nhac.vn/bai-hat/dung-ve-tre-rnb-ver-son-tung-m-tp-so5zqjO\" title=\"Đừng Về Trễ (Rnb Ver)\">Đừng Về Trễ (Rnb Ver)</a></h3>, <h3 class=\"name over-text\"><a href=\"https://nhac.vn/bai-hat/chung-ta-khong-thuoc-ve-nhau-svto-x-k-k-bootleg-son-tung-m-tp-soW801V\" title=\"Chúng Ta Không Thuộc Về Nhau (SVTO x K$K Bootleg)\">Chúng Ta Không Thuộc Về Nhau (SVTO x K$K Bootleg)</a></h3>]\n"
     ]
    }
   ],
   "source": [
    "page_source = BeautifulSoup(driver.page_source)\n",
    "songs = page_source.find_all('h3',class_=\"name over-text\")\n",
    "print(songs)"
   ]
  },
  {
   "cell_type": "code",
   "execution_count": 42,
   "metadata": {},
   "outputs": [
    {
     "name": "stdout",
     "output_type": "stream",
     "text": [
      "https://nhac.vn/bai-hat/lien-khuc-son-tung-m-tp-remix-2014-son-tung-m-tp-soWvbYk\n",
      "https://nhac.vn/bai-hat/nang-am-xa-dan-team-son-tung-mtp-slim-v-son-tung-m-tp-soPaom5\n",
      "https://nhac.vn/bai-hat/thai-binh-mo-hoi-roi-team-son-tung-mtp-slim-v-dj-trang-moon-son-tung-m-tp-sokA7Mp\n",
      "https://nhac.vn/bai-hat/em-cua-ngay-hom-qua-team-son-tung-mtp-slim-v-dj-trang-moon-son-tung-m-tp-so03YKn\n",
      "https://nhac.vn/bai-hat/con-mua-ngang-qua-team-son-tung-mtp-slim-v-dj-trang-moon-son-tung-m-tp-soJnDd5\n",
      "https://nhac.vn/bai-hat/chay-ngay-di-onionn-remix-son-tung-m-tp-onionn-soGLL9R\n",
      "https://nhac.vn/bai-hat/lac-troi-triple-d-remix-son-tung-m-tp-triple-d-soojmNX\n",
      "https://nhac.vn/bai-hat/con-mua-ngang-qua-part-3-son-tung-m-tp-so410V4\n",
      "https://nhac.vn/bai-hat/remember-me-slimv-2017-mix-dj-slimv-son-tung-m-tp-soyNalk\n",
      "https://nhac.vn/bai-hat/binh-yen-nhung-phut-giay-son-tung-m-tp-soNpyEz\n",
      "https://nhac.vn/bai-hat/dung-ve-tre-son-tung-m-tp-soR940x\n",
      "https://nhac.vn/bai-hat/buong-doi-tay-nhau-ra-son-tung-m-tp-solJ4zN\n",
      "https://nhac.vn/bai-hat/anh-that-qua-ngoc-thai-lan-vien-son-tung-m-tp-sobKzW7\n",
      "https://nhac.vn/bai-hat/nhu-ngay-hom-qua-son-tung-m-tp-soXO57D\n",
      "https://nhac.vn/bai-hat/chung-ta-khong-thuoc-ve-nhau-son-tung-m-tp-soR9NAq\n",
      "https://nhac.vn/bai-hat/noi-nay-co-anh-dj-grusi-remix-son-tung-m-tp-sobpy8P\n",
      "https://nhac.vn/bai-hat/le-anh-van-roi-son-tung-m-tp-so8AExy\n",
      "https://nhac.vn/bai-hat/mai-yeu-em-son-tung-m-tp-so3n1lA\n",
      "https://nhac.vn/bai-hat/lac-troi-masew-trap-remix-son-tung-m-tp-soOLJEM\n",
      "https://nhac.vn/bai-hat/mot-nam-moi-binh-an-son-tung-m-tp-soLa7R0\n",
      "https://nhac.vn/bai-hat/noi-nay-co-anh-masew-bootleg-son-tung-m-tp-soLpWya\n",
      "https://nhac.vn/bai-hat/tha-thu-pam-remix-son-tung-m-tp-so5ODo9\n",
      "https://nhac.vn/bai-hat/remember-me-son-tung-m-tp-soGdv8x\n",
      "https://nhac.vn/bai-hat/nang-am-xa-dan-son-tung-m-tp-so8a7\n",
      "https://nhac.vn/bai-hat/con-mua-ngang-qua-son-tung-m-tp-so3GJ\n",
      "https://nhac.vn/bai-hat/anh-sai-roi-son-tung-m-tp-so5ybnj\n",
      "https://nhac.vn/bai-hat/mai-nay-con-lon-len-son-tung-m-tp-soOLrQ\n",
      "https://nhac.vn/bai-hat/nhu-ngay-hom-qua-dj-ms69-remix-son-tung-m-tp-sorn1oN\n",
      "https://nhac.vn/bai-hat/dung-ve-tre-rnb-ver-son-tung-m-tp-so5zqjO\n",
      "https://nhac.vn/bai-hat/chung-ta-khong-thuoc-ve-nhau-svto-x-k-k-bootleg-son-tung-m-tp-soW801V\n"
     ]
    }
   ],
   "source": [
    "page_source = BeautifulSoup(driver.page_source)\n",
    "songs = page_source.find_all('h3',class_=\"name over-text\")\n",
    "all_profile_URL = []\n",
    "\n",
    "for i in range(0,len(songs)):\n",
    "    name = songs[i].find('a').get_text()\n",
    "    page_source = BeautifulSoup(driver.page_source)\n",
    "    profiles = page_source.find_all('a',title = name)\n",
    "\n",
    "   \n",
    "    for profile in profiles:\n",
    "        profile_URL = profile.get_attribute_list('href')\n",
    "\n",
    "    for x in range(0,len(profile_URL)):\n",
    "        if profile_URL not in all_profile_URL:\n",
    "            all_profile_URL.append(profile_URL[x])\n",
    "\n",
    "for a in range(0, len(songs)):\n",
    "    print(all_profile_URL[a])\n",
    "    driver.get(all_profile_URL[a])\n",
    "    down1 = driver.find_element_by_class_name('icsn-download').click()\n",
    "    sleep(7)\n",
    "    down2 = driver.find_element_by_class_name('btndownload').click()\n",
    "    sleep(7)\n",
    "    # for x in profile_URL:\n",
    "        # play = driver.find_element_by_xpath('/html/body/div[4]/div[3]/div/div[1]/div/div[3]/div[1]/div[8]/div[4]/div[1]/div[6]').click()\n",
    "        # a = print(x)\n",
    "        # down1 = driver.find_element_by_class_name('icsn-download').click()\n",
    "        # sleep(7)\n",
    "        # down2 = driver.find_element_by_class_name('btndownload').click()\n",
    "        # sleep(7)\n",
    "        # video_url = profile_URL[x]\n",
    "        # video_info = youtube_dl.YoutubeDL().extract_info(url = video_url,download=False)\n",
    "        # filename = f\"{video_info['title']}.mp3\"\n",
    "        # options={\n",
    "        #     'format':'bestaudio/best',\n",
    "        #     'keepvideo':False,\n",
    "        #     'outtmpl':filename,\n",
    "        # }\n",
    "        # with youtube_dl.YoutubeDL(options) as ydl:\n",
    "        #     ydl.download([video_info['webpage_url']])\n",
    "        # print(\"Download complete... {}\".format(filename))\n",
    "    "
   ]
  },
  {
   "cell_type": "code",
   "execution_count": null,
   "metadata": {},
   "outputs": [],
   "source": []
  }
 ],
 "metadata": {
  "interpreter": {
   "hash": "a42ccb73e7d9bfdf27e036f1d2b8b681e55fc0743cc5586bc2474d4a60f4b886"
  },
  "kernelspec": {
   "display_name": "Python 3.10.4 64-bit",
   "language": "python",
   "name": "python3"
  },
  "language_info": {
   "codemirror_mode": {
    "name": "ipython",
    "version": 3
   },
   "file_extension": ".py",
   "mimetype": "text/x-python",
   "name": "python",
   "nbconvert_exporter": "python",
   "pygments_lexer": "ipython3",
   "version": "3.10.4"
  },
  "orig_nbformat": 4
 },
 "nbformat": 4,
 "nbformat_minor": 2
}
