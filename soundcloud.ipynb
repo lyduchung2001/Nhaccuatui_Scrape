{
 "cells": [
  {
   "cell_type": "code",
   "execution_count": 28,
   "metadata": {},
   "outputs": [],
   "source": [
    "from bs4 import BeautifulSoup\n",
    "from selenium import webdriver\n",
    "from selenium.webdriver.common.keys import Keys\n",
    "import csv\n",
    "import requests\n",
    "import youtube_dl"
   ]
  },
  {
   "cell_type": "code",
   "execution_count": 29,
   "metadata": {},
   "outputs": [],
   "source": [
    "driver = webdriver.Chrome()\n",
    "url = 'https://soundcloud.com/'\n",
    "driver.get(url)"
   ]
  },
  {
   "cell_type": "code",
   "execution_count": 31,
   "metadata": {},
   "outputs": [
    {
     "name": "stderr",
     "output_type": "stream",
     "text": [
      "C:\\Users\\Admin\\AppData\\Local\\Temp\\ipykernel_23908\\103523604.py:1: DeprecationWarning: find_element_by_xpath is deprecated. Please use find_element(by=By.XPATH, value=xpath) instead\n",
      "  search_field = driver.find_element_by_xpath('//*[@id=\"content\"]/div/div/div[2]/div/div[1]/span/span/form/input')\n"
     ]
    }
   ],
   "source": [
    "search_field = driver.find_element_by_xpath('//*[@id=\"content\"]/div/div/div[2]/div/div[1]/span/span/form/input')\n",
    "search_field.send_keys('ha anh tuan')\n",
    "search_field.send_keys(Keys.RETURN)"
   ]
  },
  {
   "cell_type": "code",
   "execution_count": 32,
   "metadata": {},
   "outputs": [
    {
     "name": "stdout",
     "output_type": "stream",
     "text": [
      "['https://soundcloud.com/phuc-duong-2011/d-u-c-l-i-l-m-h-anh-tu-n-rc-in', 'https://soundcloud.com/call_me_dan/see-sing-share-nguoi-tinh-mua-dong-ha-anh-tuan', 'https://soundcloud.com/user-490454577/h-anh-tu-n-th-ng-m-y-em-nh-anh', 'https://soundcloud.com/nhimai976/see-sing-share-3-tap-1-chi-con-nuoi-tiec-nhung-mua-nho-ha-anh-tuan', 'https://soundcloud.com/b-m-6/h-anh-tu-n-chuy-n-c-a-m-a-ng', 'https://soundcloud.com/call_me_dan/see-sing-share-tinh-thoi-xot-xa-ha-anh-tuan', 'https://soundcloud.com/ha-anh-475220581/gia-nhu-minh-da-bao-dung-bui-anh-tuan-ft-ho-ngoc-ha', 'https://soundcloud.com/user-346998665/chua-bao-gio-h-anh-tu-n']\n"
     ]
    }
   ],
   "source": [
    "page_source = BeautifulSoup(driver.page_source)\n",
    "songs = page_source.find_all('a', class_ = 'sc-link-primary soundTitle__title sc-link-dark sc-text-h4')\n",
    "all_song_URL = []\n",
    "for song in songs:\n",
    "    song_ID = song.get('href')\n",
    "    song_URL = 'https://soundcloud.com' + song_ID\n",
    "    if song_URL not in all_song_URL:\n",
    "        all_song_URL.append(song_URL)\n",
    "        \n",
    "print(all_song_URL)"
   ]
  },
  {
   "cell_type": "code",
   "execution_count": 33,
   "metadata": {},
   "outputs": [
    {
     "name": "stdout",
     "output_type": "stream",
     "text": [
      "https://soundcloud.com/phuc-duong-2011/d-u-c-l-i-l-m-h-anh-tu-n-rc-in\n",
      "https://soundcloud.com/call_me_dan/see-sing-share-nguoi-tinh-mua-dong-ha-anh-tuan\n",
      "https://soundcloud.com/user-490454577/h-anh-tu-n-th-ng-m-y-em-nh-anh\n",
      "https://soundcloud.com/nhimai976/see-sing-share-3-tap-1-chi-con-nuoi-tiec-nhung-mua-nho-ha-anh-tuan\n",
      "https://soundcloud.com/b-m-6/h-anh-tu-n-chuy-n-c-a-m-a-ng\n",
      "https://soundcloud.com/call_me_dan/see-sing-share-tinh-thoi-xot-xa-ha-anh-tuan\n",
      "https://soundcloud.com/ha-anh-475220581/gia-nhu-minh-da-bao-dung-bui-anh-tuan-ft-ho-ngoc-ha\n",
      "https://soundcloud.com/user-346998665/chua-bao-gio-h-anh-tu-n\n"
     ]
    }
   ],
   "source": [
    "for x in all_song_URL:\n",
    "    print(x)"
   ]
  },
  {
   "cell_type": "code",
   "execution_count": null,
   "metadata": {},
   "outputs": [],
   "source": []
  }
 ],
 "metadata": {
  "interpreter": {
   "hash": "231b793e72510f63263cf75731d759da8776d8c74c3ed2dbefa0f0827e58fa6e"
  },
  "kernelspec": {
   "display_name": "Python 3.9.12 64-bit (windows store)",
   "language": "python",
   "name": "python3"
  },
  "language_info": {
   "codemirror_mode": {
    "name": "ipython",
    "version": 3
   },
   "file_extension": ".py",
   "mimetype": "text/x-python",
   "name": "python",
   "nbconvert_exporter": "python",
   "pygments_lexer": "ipython3",
   "version": "3.9.12"
  },
  "orig_nbformat": 4
 },
 "nbformat": 4,
 "nbformat_minor": 2
}
