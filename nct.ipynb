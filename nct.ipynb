{
 "cells": [
  {
   "cell_type": "code",
   "execution_count": 1,
   "metadata": {},
   "outputs": [],
   "source": [
    "from bs4 import BeautifulSoup\n",
    "from selenium import webdriver\n",
    "from selenium.webdriver.common.keys import Keys\n",
    "from time import sleep\n",
    "from selenium.webdriver.common.by import By"
   ]
  },
  {
   "cell_type": "code",
   "execution_count": 2,
   "metadata": {},
   "outputs": [],
   "source": [
    "# driver = webdriver.Chrome()\n",
    "# driver.maximize_window()\n",
    "chromeOptions = webdriver.ChromeOptions()\n",
    "prefs = {\"download.default_directory\" : r'C:\\nhaccuatui'}\n",
    "chromeOptions.add_experimental_option(\"prefs\",prefs)\n",
    "driver = webdriver.Chrome(options=chromeOptions)"
   ]
  },
  {
   "cell_type": "code",
   "execution_count": 3,
   "metadata": {},
   "outputs": [],
   "source": [
    "url = 'https://www.nhaccuatui.com/'\n",
    "driver.get(url)"
   ]
  },
  {
   "cell_type": "code",
   "execution_count": 4,
   "metadata": {},
   "outputs": [
    {
     "name": "stderr",
     "output_type": "stream",
     "text": [
      "C:\\Users\\Admin\\AppData\\Local\\Temp\\ipykernel_16992\\4284549114.py:1: DeprecationWarning: find_element_by_xpath is deprecated. Please use find_element(by=By.XPATH, value=xpath) instead\n",
      "  search_field = driver.find_element_by_xpath('//*[@id=\"txtSearch\"]')\n",
      "C:\\Users\\Admin\\AppData\\Local\\Temp\\ipykernel_16992\\4284549114.py:6: DeprecationWarning: find_element_by_xpath is deprecated. Please use find_element(by=By.XPATH, value=xpath) instead\n",
      "  run_field = driver.find_element_by_xpath('/html/body/div[6]/div/div/div[1]/div[8]/ul[1]/div/h2/a').click()\n"
     ]
    }
   ],
   "source": [
    "search_field = driver.find_element_by_xpath('//*[@id=\"txtSearch\"]')\n",
    "input_name = input(\"Nhập tên ca sĩ bạn muốn tìm: \")\n",
    "search_field.send_keys(input_name)\n",
    "search_field.send_keys(Keys.RETURN)\n",
    "# sleep(5)\n",
    "run_field = driver.find_element_by_xpath('/html/body/div[6]/div/div/div[1]/div[8]/ul[1]/div/h2/a').click()\n"
   ]
  },
  {
   "cell_type": "code",
   "execution_count": 5,
   "metadata": {},
   "outputs": [
    {
     "name": "stdout",
     "output_type": "stream",
     "text": [
      "[<h3 class=\"title_song\"><a href=\"https://www.nhaccuatui.com/bai-hat/chi-mot-cau-.MOyuTvRqS5Zm.html\" key=\"MOyuTvRqS5Zm\" title=\"Chỉ Một Câu\">Chỉ Một Câu</a></h3>, <h3 class=\"title_song\"><a href=\"https://www.nhaccuatui.com/bai-hat/hon-ca-yeu-entidi-remix-.nbFRH3iY8DG5.html\" key=\"nbFRH3iY8DG5\" title=\"Hơn Cả Yêu (Entidi Remix)\">Hơn Cả Yêu (Entidi Remix)</a></h3>, <h3 class=\"title_song\"><a href=\"https://www.nhaccuatui.com/bai-hat/em-la-tat-ca-cho-em-den-ngay-mai-ost-.4R63BnTS189H.html\" key=\"4R63BnTS189H\" title=\"Em Là Tất Cả (Chờ Em Đến Ngày Mai OST)\">Em Là Tất Cả (Chờ Em Đến Ngày Mai OST)</a></h3>, <h3 class=\"title_song\"><a href=\"https://www.nhaccuatui.com/bai-hat/vo-sieu-sao-sieu-ngo-ost-.7qDUIpzxCGVP.html\" key=\"7qDUIpzxCGVP\" title=\"Vỡ (Siêu Sao Siêu Ngố OST)\">Vỡ (Siêu Sao Siêu Ngố OST)</a></h3>, <h3 class=\"title_song\"><a href=\"https://www.nhaccuatui.com/bai-hat/chang-de-em-xa-anh-.tVim8SB88GIY.html\" key=\"tVim8SB88GIY\" title=\"Chẳng Để Em Xa Anh\">Chẳng Để Em Xa Anh</a></h3>, <h3 class=\"title_song\"><a href=\"https://www.nhaccuatui.com/bai-hat/nam-ay-.ikmrjWr9JZVC.html\" key=\"ikmrjWr9JZVC\" title=\"Năm Ấy\">Năm Ấy</a></h3>, <h3 class=\"title_song\"><a href=\"https://www.nhaccuatui.com/bai-hat/yeu-la-tha-thu-cover-.QomCKc9GqeaL.html\" key=\"QomCKc9GqeaL\" title=\"Yêu Là Tha Thu Cover\">Yêu Là Tha Thu Cover</a></h3>, <h3 class=\"title_song\"><a href=\"https://www.nhaccuatui.com/bai-hat/giau-mat-.1WX7Yumwoghg.html\" key=\"1WX7Yumwoghg\" title=\"Giấu Mặt\">Giấu Mặt</a></h3>, <h3 class=\"title_song\"><a href=\"https://www.nhaccuatui.com/bai-hat/anh-nang-cua-anh-.pE3YzsZkrgNj.html\" key=\"pE3YzsZkrgNj\" title=\"Ánh Nắng Của Anh\">Ánh Nắng Của Anh</a></h3>, <h3 class=\"title_song\"><a href=\"https://www.nhaccuatui.com/bai-hat/nguoi-oi-nguoi-o-dung-ve-.TRoNdt4KKT2G.html\" key=\"TRoNdt4KKT2G\" title=\"Người Ơi Người Ở Đừng Về\">Người Ơi Người Ở Đừng Về</a></h3>, <h3 class=\"title_song\"><a href=\"https://www.nhaccuatui.com/bai-hat/cu-yeu-di-100-ngay-ben-em-ost-.VLXXy7DpWcJP.html\" key=\"VLXXy7DpWcJP\" title=\"Cứ Yêu Đi (100 Ngày Bên Em OST)\">Cứ Yêu Đi (100 Ngày Bên Em OST)</a></h3>, <h3 class=\"title_song\"><a href=\"https://www.nhaccuatui.com/bai-hat/the-la-tet-.RCQ8mem5EMOo.html\" key=\"RCQ8mem5EMOo\" title=\"Thế Là Tết\">Thế Là Tết</a></h3>, <h3 class=\"title_song\"><a href=\"https://www.nhaccuatui.com/bai-hat/cung-danh-thoi-dj-duong-k-remix-.nNo79n6iEXBb.html\" key=\"nNo79n6iEXBb\" title=\"Cũng Đành Thôi (DJ Dương K Remix)\">Cũng Đành Thôi (DJ Dương K Remix)</a></h3>, <h3 class=\"title_song\"><a href=\"https://www.nhaccuatui.com/bai-hat/ve-noi-toi-sinh-ra-.aOk0MoozpDfI.html\" key=\"aOk0MoozpDfI\" title=\"Về Nơi Tôi Sinh Ra\">Về Nơi Tôi Sinh Ra</a></h3>, <h3 class=\"title_song\"><a href=\"https://www.nhaccuatui.com/bai-hat/ta-con-yeu-nhau-.sP0tNl0x4W3N.html\" key=\"sP0tNl0x4W3N\" title=\"Ta Còn Yêu Nhau\">Ta Còn Yêu Nhau</a></h3>, <h3 class=\"title_song\"><a href=\"https://www.nhaccuatui.com/bai-hat/em-khong-sai-chung-ta-sai-cover-.KfxbGxMrPne2.html\" key=\"KfxbGxMrPne2\" title=\"Em Không Sai, Chúng Ta Sai Cover\">Em Không Sai, Chúng Ta Sai Cover</a></h3>, <h3 class=\"title_song\"><a href=\"https://www.nhaccuatui.com/bai-hat/chac-ai-do-se-ve-giong-hat-viet-2015-.CABOhL9dxCvx.html\" key=\"CABOhL9dxCvx\" title=\"Chắc Ai Đó Sẽ Về (Giọng Hát Việt 2015)\">Chắc Ai Đó Sẽ Về (Giọng Hát Việt 2015)</a></h3>, <h3 class=\"title_song\"><a href=\"https://www.nhaccuatui.com/bai-hat/trai-dat-dep-nhat-khi-co-em-.JPvSFraXdEAT.html\" key=\"JPvSFraXdEAT\" title=\"Trái Đất Đẹp Nhất Khi Có Em\">Trái Đất Đẹp Nhất Khi Có Em</a></h3>, <h3 class=\"title_song\"><a href=\"https://www.nhaccuatui.com/bai-hat/huyen-thoai-me-giong-hat-viet-2015-.B7HIdGYA1WF3.html\" key=\"B7HIdGYA1WF3\" title=\"Huyền Thoại Mẹ (Giọng Hát Việt 2015)\">Huyền Thoại Mẹ (Giọng Hát Việt 2015)</a></h3>, <h3 class=\"title_song\"><a href=\"https://www.nhaccuatui.com/bai-hat/vo-sieu-sao-sieu-ngo-ost-nhac-chuong-.VJfzKy42G4jv.html\" key=\"VJfzKy42G4jv\" title=\"Vỡ (Siêu Sao Siêu Ngố Ost) (Nhạc Chuông)\">Vỡ (Siêu Sao Siêu Ngố Ost) (Nhạc Chuông)</a></h3>, <h3 class=\"title_song\"><a href=\"https://www.nhaccuatui.com/bai-hat/nam-ay-beat-.GodfgoxWlDEh.html\" key=\"GodfgoxWlDEh\" title=\"Năm Ấy Beat\">Năm Ấy Beat</a></h3>, <h3 class=\"title_song\"><a href=\"https://www.nhaccuatui.com/bai-hat/nguoi-oi-nguoi-o-dung-ve-acoustic-version-.Y61lrz0PDY7e.html\" key=\"Y61lrz0PDY7e\" title=\"Người Ơi Người Ở Đừng Về (Acoustic Version)\">Người Ơi Người Ở Đừng Về (Acoustic Version)</a></h3>, <h3 class=\"title_song\"><a href=\"https://www.nhaccuatui.com/bai-hat/anh-nang-cua-anh-pt-remix-.ZcQlVQAREjp8.html\" key=\"ZcQlVQAREjp8\" title=\"Ánh Nắng Của Anh (Pt Remix)\">Ánh Nắng Của Anh (Pt Remix)</a></h3>, <h3 class=\"title_song\"><a href=\"https://www.nhaccuatui.com/bai-hat/im-not-the-only-one-giong-hat-viet-2015-.DDxfGR4tnSTU.html\" key=\"DDxfGR4tnSTU\" title=\"I'm Not The Only One (Giọng Hát Việt 2015)\">I'm Not The Only One (Giọng Hát Việt 2015)</a></h3>, <h3 class=\"title_song\"><a href=\"https://www.nhaccuatui.com/bai-hat/cho-nguoi-cap-doi-hoan-hao-tru-tinh-bolero-.8DdI7NdgPuNG.html\" key=\"8DdI7NdgPuNG\" title=\"Chờ Người (Cặp Đôi Hoàn Hảo - Trữ Tình &amp; Bolero)\">Chờ Người (Cặp Đôi Hoàn Hảo - Trữ Tình &amp; Bolero)</a></h3>, <h3 class=\"title_song\"><a href=\"https://www.nhaccuatui.com/bai-hat/vo-sieu-sao-sieu-ngo-ost-beat-.LbQEr6bKN3E4.html\" key=\"LbQEr6bKN3E4\" title=\"Vỡ (Siêu Sao Siêu Ngố OST) Beat\">Vỡ (Siêu Sao Siêu Ngố OST) Beat</a></h3>, <h3 class=\"title_song\"><a href=\"https://www.nhaccuatui.com/bai-hat/anh-nang-cua-anh-dj-max-troll-dj-tran-anh-remix-2017-.qlOPBpc1odw5.html\" key=\"qlOPBpc1odw5\" title=\"Ánh Nắng Của Anh (DJ Max Troll &amp; DJ Trần Anh Remix 2017)\">Ánh Nắng Của Anh (DJ Max Troll &amp; DJ Trần Anh Remix 2017)</a></h3>, <h3 class=\"title_song\"><a href=\"https://www.nhaccuatui.com/bai-hat/hon-ca-yeu-beat-phoi-.lyex9oslYTY5.html\" key=\"lyex9oslYTY5\" title=\"Hơn Cả Yêu (Beat Phối)\">Hơn Cả Yêu (Beat Phối)</a></h3>, <h3 class=\"title_song\"><a href=\"https://www.nhaccuatui.com/bai-hat/anh-dang-o-dau-day-anh-cover-.tYitrHj6aKy6.html\" key=\"tYitrHj6aKy6\" title=\"Anh Đang Ở Đâu Đấy Anh Cover\">Anh Đang Ở Đâu Đấy Anh Cover</a></h3>, <h3 class=\"title_song\"><a href=\"https://www.nhaccuatui.com/bai-hat/attention-live-cover-.zbC9rTBzSZti.html\" key=\"zbC9rTBzSZti\" title=\"Attention (Live Cover)\">Attention (Live Cover)</a></h3>, <h3 class=\"title_song\"><a href=\"https://www.nhaccuatui.com/bai-hat/da-hon-mot-lan-i-believe-i-can-fly-giong-hat-viet-2015-.Wj0yUrMVbrTq.html\" key=\"Wj0yUrMVbrTq\" title=\"Đã Hơn Một Lần, I Believe I Can Fly (Giọng Hát Việt 2015)\">Đã Hơn Một Lần, I Believe I Can Fly (Giọng Hát Việt 2015)</a></h3>, <h3 class=\"title_song\"><a href=\"https://www.nhaccuatui.com/bai-hat/lau-dai-tinh-ai-cap-doi-hoan-hao-tru-tinh-bolero-.xMDs4jbow7jr.html\" key=\"xMDs4jbow7jr\" title=\"Lâu Đài Tình Ái (Cặp Đôi Hoàn Hảo - Trữ Tình &amp; Bolero)\">Lâu Đài Tình Ái (Cặp Đôi Hoàn Hảo - Trữ Tình &amp; Bolero)</a></h3>, <h3 class=\"title_song\"><a href=\"https://www.nhaccuatui.com/bai-hat/trai-tim-ve-nha-.fpsqcnldwGwG.html\" key=\"fpsqcnldwGwG\" title=\"Trái Tim Về Nhà\">Trái Tim Về Nhà</a></h3>, <h3 class=\"title_song\"><a href=\"https://www.nhaccuatui.com/bai-hat/anh-nang-cua-anh-cho-em-den-ngay-mai-ost-beat-.4SHfLqFHIia8.html\" key=\"4SHfLqFHIia8\" title=\"Ánh Nắng Của Anh (Chờ Em Đến Ngày Mai OST) Beat\">Ánh Nắng Của Anh (Chờ Em Đến Ngày Mai OST) Beat</a></h3>, <h3 class=\"title_song\"><a href=\"https://www.nhaccuatui.com/bai-hat/le-da-cap-doi-hoan-hao-tru-tinh-bolero-.0bHPhO5zcbbP.html\" key=\"0bHPhO5zcbbP\" title=\"Lệ Đá (Cặp Đôi Hoàn Hảo - Trữ Tình &amp; Bolero)\">Lệ Đá (Cặp Đôi Hoàn Hảo - Trữ Tình &amp; Bolero)</a></h3>, <h3 class=\"title_song\"><a href=\"https://www.nhaccuatui.com/bai-hat/hon-ca-yeu-quynh-id-remix-.NNwtkKV9AaDY.html\" key=\"NNwtkKV9AaDY\" title=\"Hơn Cả Yêu (Quynh ID Remix)\">Hơn Cả Yêu (Quynh ID Remix)</a></h3>, <h3 class=\"title_song\"><a href=\"https://www.nhaccuatui.com/bai-hat/yeu-xa-giong-hat-viet-2015-.go2TmwPrccIn.html\" key=\"go2TmwPrccIn\" title=\"Yêu Xa (Giọng Hát Việt 2015)\">Yêu Xa (Giọng Hát Việt 2015)</a></h3>, <h3 class=\"title_song\"><a href=\"https://www.nhaccuatui.com/bai-hat/anh-nang-cua-anh-dj-duc-thien-remix-2018-.IeF3K3pt6jAS.html\" key=\"IeF3K3pt6jAS\" title=\"Ánh Nắng Của Anh (DJ Đức Thiện Remix 2018)\">Ánh Nắng Của Anh (DJ Đức Thiện Remix 2018)</a></h3>, <h3 class=\"title_song\"><a href=\"https://www.nhaccuatui.com/bai-hat/anh-nang-cua-anh-live-.GUVXdSFOMHpC.html\" key=\"GUVXdSFOMHpC\" title=\"Ánh Nắng Của Anh Live\">Ánh Nắng Của Anh Live</a></h3>, <h3 class=\"title_song\"><a href=\"https://www.nhaccuatui.com/bai-hat/chay-di-song-oi-giong-hat-viet-2015-.CIM611HA2Drv.html\" key=\"CIM611HA2Drv\" title=\"Chảy Đi Sông Ơi (Giọng Hát Việt 2015)\">Chảy Đi Sông Ơi (Giọng Hát Việt 2015)</a></h3>, <h3 class=\"title_song\"><a href=\"https://www.nhaccuatui.com/bai-hat/neu-nhu-anh-den-giong-hat-viet-2015-.PY4e37ZCjk9D.html\" key=\"PY4e37ZCjk9D\" title=\"Nếu Như Anh Đến (Giọng Hát Việt 2015)\">Nếu Như Anh Đến (Giọng Hát Việt 2015)</a></h3>, <h3 class=\"title_song\"><a href=\"https://www.nhaccuatui.com/bai-hat/yeu-duoc-khong-dj-xuan-nui-remix-.zY3zw8oI8W5O.html\" key=\"zY3zw8oI8W5O\" title=\"Yêu Được Không (DJ Xuân Núi Remix)\">Yêu Được Không (DJ Xuân Núi Remix)</a></h3>, <h3 class=\"title_song\"><a href=\"https://www.nhaccuatui.com/bai-hat/anh-nang-cua-anh-cho-em-den-ngay-mai-ost-dj-trinh-viet-remix-.M2SOh6YJ6d6n.html\" key=\"M2SOh6YJ6d6n\" title=\"Ánh Nắng Của Anh (Chờ Em Đến Ngày Mai OST) (DJ Trịnh Việt Remix)\">Ánh Nắng Của Anh (Chờ Em Đến Ngày Mai OST) (DJ Trịnh Việt Remix)</a></h3>, <h3 class=\"title_song\"><a href=\"https://www.nhaccuatui.com/bai-hat/hello-giong-hat-viet-2015-.ARkJVczAZx5n.html\" key=\"ARkJVczAZx5n\" title=\"Hello (Giọng Hát Việt 2015)\">Hello (Giọng Hát Việt 2015)</a></h3>, <h3 class=\"title_song\"><a href=\"https://www.nhaccuatui.com/bai-hat/tinh-cha-giong-hat-viet-2015-.07VHriEtv5qJ.html\" key=\"07VHriEtv5qJ\" title=\"Tình Cha (Giọng Hát Việt 2015)\">Tình Cha (Giọng Hát Việt 2015)</a></h3>, <h3 class=\"title_song\"><a href=\"https://www.nhaccuatui.com/bai-hat/bai-khong-ten-cuoi-cung-cap-doi-hoan-hao-tru-tinh-bolero-.8Uh82PAeGORE.html\" key=\"8Uh82PAeGORE\" title=\"Bài Không Tên Cuối Cùng (Cặp Đôi Hoàn Hảo - Trữ Tình &amp; Bolero)\">Bài Không Tên Cuối Cùng (Cặp Đôi Hoàn Hảo - Trữ Tình &amp; Bolero)</a></h3>, <h3 class=\"title_song\"><a href=\"https://www.nhaccuatui.com/bai-hat/het-thuong-can-nho-daries-remix-.AkgGePn9iyrf.html\" key=\"AkgGePn9iyrf\" title=\"Hết Thương Cạn Nhớ (DAries Remix)\">Hết Thương Cạn Nhớ (DAries Remix)</a></h3>, <h3 class=\"title_song\"><a href=\"https://www.nhaccuatui.com/bai-hat/cung-danh-thoi-beat-.d4F9zF6MC03O.html\" key=\"d4F9zF6MC03O\" title=\"Cũng Đành Thôi Beat\">Cũng Đành Thôi Beat</a></h3>, <h3 class=\"title_song\"><a href=\"https://www.nhaccuatui.com/bai-hat/anh-nang-cua-anh-dj-tuan-chivas-remix-.eTCJfvfhexLN.html\" key=\"eTCJfvfhexLN\" title=\"Ánh Nắng Của Anh (DJ Tuấn Chivas Remix) \">Ánh Nắng Của Anh (DJ Tuấn Chivas Remix) </a></h3>, <h3 class=\"title_song\"><a href=\"https://www.nhaccuatui.com/bai-hat/ta-con-yeu-nhau-live-.JMqJpCMv3fDu.html\" key=\"JMqJpCMv3fDu\" title=\"Ta Còn Yêu Nhau Live\">Ta Còn Yêu Nhau Live</a></h3>, <h3 class=\"title_song\"><a href=\"https://www.nhaccuatui.com/bai-hat/co-tat-ca-nhung-thieu-anh-cover-.MjHcyI1KcD8t.html\" key=\"MjHcyI1KcD8t\" title=\"Có Tất Cả Nhưng Thiếu Anh Cover\t\">Có Tất Cả Nhưng Thiếu Anh Cover\t</a></h3>, <h3 class=\"title_song\"><a href=\"https://www.nhaccuatui.com/bai-hat/giau-mat-beat-.lsnk1WTVri9Q.html\" key=\"lsnk1WTVri9Q\" title=\"Giấu Mặt Beat\">Giấu Mặt Beat</a></h3>, <h3 class=\"title_song\"><a href=\"https://www.nhaccuatui.com/bai-hat/het-thuong-can-nho-dj-trang-chubby-remix-.GKeWzXYVxiAY.html\" key=\"GKeWzXYVxiAY\" title=\"Hết Thương Cạn Nhớ (DJ Trang Chubby Remix)\">Hết Thương Cạn Nhớ (DJ Trang Chubby Remix)</a></h3>, <h3 class=\"title_song\"><a href=\"https://www.nhaccuatui.com/bai-hat/cung-danh-thoi-thu-toi-mix-.MeipAPbKd81L.html\" key=\"MeipAPbKd81L\" title=\"Cũng Đành Thôi (Thứ Tỏi Mix)\">Cũng Đành Thôi (Thứ Tỏi Mix)</a></h3>, <h3 class=\"title_song\"><a href=\"https://www.nhaccuatui.com/bai-hat/chac-ai-do-se-ve-dj-tuan-shock-remix-.jlgORScFfkeC.html\" key=\"jlgORScFfkeC\" title=\"Chắc Ai Đó Sẽ Về (DJ Tuấn Shock Remix)\">Chắc Ai Đó Sẽ Về (DJ Tuấn Shock Remix)</a></h3>, <h3 class=\"title_song\"><a href=\"https://www.nhaccuatui.com/bai-hat/het-thuong-can-nho-beat-.ORRU2rgoVsp9.html\" key=\"ORRU2rgoVsp9\" title=\"Hết Thương Cạn Nhớ Beat\">Hết Thương Cạn Nhớ Beat</a></h3>, <h3 class=\"title_song\"><a href=\"https://www.nhaccuatui.com/bai-hat/hon-ca-yeu-hung-truong-remix-.sEmKO2TtNLeg.html\" key=\"sEmKO2TtNLeg\" title=\"Hơn Cả Yêu (Hùng Trương Remix)\">Hơn Cả Yêu (Hùng Trương Remix)</a></h3>, <h3 class=\"title_song\"><a href=\"https://www.nhaccuatui.com/bai-hat/nguoi-oi-nguoi-o-dung-ve-beat-.zyQqhhRyuv61.html\" key=\"zyQqhhRyuv61\" title=\"Người Ơi Người Ở Đừng Về Beat\">Người Ơi Người Ở Đừng Về Beat</a></h3>, <h3 class=\"title_song\"><a href=\"https://www.nhaccuatui.com/bai-hat/yeu-duoc-khong-beat-.lGC822mcsxbv.html\" key=\"lGC822mcsxbv\" title=\"Yêu Được Không Beat\">Yêu Được Không Beat</a></h3>, <h3 class=\"title_song\"><a href=\"https://www.nhaccuatui.com/bai-hat/con-yeu-dau-ai-roi-di-beat-.pSepMuc9EvYG.html\" key=\"pSepMuc9EvYG\" title=\"Còn Yêu, Đâu Ai Rời Đi Beat\">Còn Yêu, Đâu Ai Rời Đi Beat</a></h3>, <h3 class=\"title_song\"><a href=\"https://www.nhaccuatui.com/bai-hat/nguoi-oi-nguoi-o-dung-ve-lan-song-xanh-party-2020-.M43KPutNSFcs.html\" key=\"M43KPutNSFcs\" title=\"Người Ơi Người Ở Đừng Về (Làn Sóng Xanh Party 2020)\">Người Ơi Người Ở Đừng Về (Làn Sóng Xanh Party 2020)</a></h3>, <h3 class=\"title_song\"><a href=\"https://www.nhaccuatui.com/bai-hat/gui-ngan-loi-yeu-.sUIYrP4nObvu.html\" key=\"sUIYrP4nObvu\" title=\"Gửi Ngàn Lời Yêu\">Gửi Ngàn Lời Yêu</a></h3>, <h3 class=\"title_song\"><a href=\"https://www.nhaccuatui.com/bai-hat/chao-ngay-moi-cua-toi-.wmtPm57iglLm.html\" key=\"wmtPm57iglLm\" title=\"Chào Ngày Mới Của Tôi\">Chào Ngày Mới Của Tôi</a></h3>, <h3 class=\"title_song\"><a href=\"https://www.nhaccuatui.com/bai-hat/gui-ngan-loi-yeu-cover-.hU75EIxYSkh4.html\" key=\"hU75EIxYSkh4\" title=\"Gửi Ngàn Lời Yêu (Cover)\">Gửi Ngàn Lời Yêu (Cover)</a></h3>, <h3 class=\"title_song\"><a href=\"https://www.nhaccuatui.com/bai-hat/diu-dang-em-den-cover-.ioAWQrY6R1HW.html\" key=\"ioAWQrY6R1HW\" title=\"Dịu Dàng Em Đến (Cover)\">Dịu Dàng Em Đến (Cover)</a></h3>, <h3 class=\"title_song\"><a href=\"https://www.nhaccuatui.com/bai-hat/mashup-love-songs-mama-viet-nam-2017-.DWxABm6aJ0nj.html\" key=\"DWxABm6aJ0nj\" title=\"Mashup Love Songs (MaMa Việt Nam 2017)\">Mashup Love Songs (MaMa Việt Nam 2017)</a></h3>, <h3 class=\"title_song\"><a href=\"https://www.nhaccuatui.com/bai-hat/gio-mua-xuan-toi-cap-doi-hoan-hao-tru-tinh-bolero-.qWY2qDwNiqAf.html\" key=\"qWY2qDwNiqAf\" title=\"Gió Mùa Xuân Tới (Cặp Đôi Hoàn Hảo - Trữ Tình &amp; Bolero)\">Gió Mùa Xuân Tới (Cặp Đôi Hoàn Hảo - Trữ Tình &amp; Bolero)</a></h3>, <h3 class=\"title_song\"><a href=\"https://www.nhaccuatui.com/bai-hat/cung-danh-thoi-version-rap-.pPfZegg59bot.html\" key=\"pPfZegg59bot\" title=\"Cũng Đành Thôi (Version Rap)\">Cũng Đành Thôi (Version Rap)</a></h3>, <h3 class=\"title_song\"><a href=\"https://www.nhaccuatui.com/bai-hat/anh-nang-cua-anh-cho-em-den-ngay-mai-ost-remix-2017-.L5lfJhNlAO5F.html\" key=\"L5lfJhNlAO5F\" title=\"Ánh Nắng Của Anh (Chờ Em Đến Ngày Mai OST) (Remix 2017)\">Ánh Nắng Của Anh (Chờ Em Đến Ngày Mai OST) (Remix 2017)</a></h3>, <h3 class=\"title_song\"><a href=\"https://www.nhaccuatui.com/bai-hat/anh-nang-cua-anh-cho-em-den-ngay-mai-ost-remix-.CtQSSpi1ELV4.html\" key=\"CtQSSpi1ELV4\" title=\"Ánh Nắng Của Anh (Chờ Em Đến Ngày Mai OST) Remix\">Ánh Nắng Của Anh (Chờ Em Đến Ngày Mai OST) Remix</a></h3>, <h3 class=\"title_song\"><a href=\"https://www.nhaccuatui.com/bai-hat/chay-di-song-oi-giong-hat-viet-2015-.Oi254x6BZDMM.html\" key=\"Oi254x6BZDMM\" title=\"Chảy Đi Sông Ơi (Giọng Hát Việt 2015)\">Chảy Đi Sông Ơi (Giọng Hát Việt 2015)</a></h3>, <h3 class=\"title_song\"><a href=\"https://www.nhaccuatui.com/bai-hat/mashup-sau-tat-ca-this-love-the-remix-hoa-am-anh-sang-2016-.6Xm63bFKZnQW.html\" key=\"6Xm63bFKZnQW\" title=\"Mashup: Sau Tất Cả - This Love (The Remix - Hòa Âm Ánh Sáng 2016)\">Mashup: Sau Tất Cả - This Love (The Remix - Hòa Âm Ánh Sáng 2016)</a></h3>, <h3 class=\"title_song\"><a href=\"https://www.nhaccuatui.com/bai-hat/khong-the-cung-nhau-suot-kiep-cover-.4S7SFCeq25cI.html\" key=\"4S7SFCeq25cI\" title=\"Không Thể Cùng Nhau Suốt Kiếp Cover\">Không Thể Cùng Nhau Suốt Kiếp Cover</a></h3>, <h3 class=\"title_song\"><a href=\"https://www.nhaccuatui.com/bai-hat/mashup-anh-nang-cua-anh-cung-danh-thoi-tim-mot-nua-co-don-yeu-tim-anh-dang-noi-dau-this-love-.QZ33INEWINSY.html\" key=\"QZ33INEWINSY\" title=\"Mashup Ánh Nắng Của Anh, Cũng Đành Thôi, Tìm Một Nửa Cô Đơn, Y.Ê.U, Tìm, Anh Đang Nơi Đâu, This Love\">Mashup Ánh Nắng Của Anh, Cũng Đành Thôi, Tìm Một Nửa Cô Đơn, Y.Ê.U, Tìm, Anh Đang Nơi Đâu, This Love</a></h3>, <h3 class=\"title_song\"><a href=\"https://www.nhaccuatui.com/bai-hat/sau-tim-thiep-hong-cap-doi-hoan-hao-tru-tinh-bolero-.49RHpZ60vcE4.html\" key=\"49RHpZ60vcE4\" title=\"Sầu Tím Thiệp Hồng (Cặp Đôi Hoàn Hảo - Trữ Tình &amp; Bolero)\">Sầu Tím Thiệp Hồng (Cặp Đôi Hoàn Hảo - Trữ Tình &amp; Bolero)</a></h3>, <h3 class=\"title_song\"><a href=\"https://www.nhaccuatui.com/bai-hat/sao-anh-no-danh-quen-cap-doi-hoan-hao-tru-tinh-bolero-.M4tRjnJPcjIl.html\" key=\"M4tRjnJPcjIl\" title=\"Sao Anh Nỡ Đành Quên (Cặp Đôi Hoàn Hảo - Trữ Tình &amp; Bolero)\">Sao Anh Nỡ Đành Quên (Cặp Đôi Hoàn Hảo - Trữ Tình &amp; Bolero)</a></h3>, <h3 class=\"title_song\"><a href=\"https://www.nhaccuatui.com/bai-hat/xin-cho-toi-cap-doi-hoan-hao-tru-tinh-bolero-.hpntoIME8d0q.html\" key=\"hpntoIME8d0q\" title=\"Xin Cho Tôi (Cặp Đôi Hoàn Hảo - Trữ Tình &amp; Bolero)\">Xin Cho Tôi (Cặp Đôi Hoàn Hảo - Trữ Tình &amp; Bolero)</a></h3>, <h3 class=\"title_song\"><a href=\"https://www.nhaccuatui.com/bai-hat/phuong-buon-ngay-buon-cap-doi-hoan-hao-tru-tinh-bolero-.DVZ9tmf36ZGn.html\" key=\"DVZ9tmf36ZGn\" title=\"Phượng Buồn &amp; Ngày Buồn (Cặp Đôi Hoàn Hảo - Trữ Tình &amp; Bolero)\">Phượng Buồn &amp; Ngày Buồn (Cặp Đôi Hoàn Hảo - Trữ Tình &amp; Bolero)</a></h3>, <h3 class=\"title_song\"><a href=\"https://www.nhaccuatui.com/bai-hat/toi-di-giua-hoang-hon-cap-doi-hoan-hao-tru-tinh-bolero-.FSufl9whHbYh.html\" key=\"FSufl9whHbYh\" title=\"Tôi Đi Giữa Hoàng Hôn (Cặp Đôi Hoàn Hảo - Trữ Tình &amp; Bolero)\">Tôi Đi Giữa Hoàng Hôn (Cặp Đôi Hoàn Hảo - Trữ Tình &amp; Bolero)</a></h3>, <h3 class=\"title_song\"><a href=\"https://www.nhaccuatui.com/bai-hat/het-thuong-can-nho-dj-khang-remix-.g2k2g5bJn1Vi.html\" key=\"g2k2g5bJn1Vi\" title=\"Hết Thương Cạn Nhớ (DJ Khang Remix)\">Hết Thương Cạn Nhớ (DJ Khang Remix)</a></h3>, <h3 class=\"title_song\"><a href=\"https://www.nhaccuatui.com/bai-hat/anh-nang-cua-anh-nightcore-.2u1BYoVWPU6h.html\" key=\"2u1BYoVWPU6h\" title=\"Ánh Nắng Của Anh (Nightcore)\">Ánh Nắng Của Anh (Nightcore)</a></h3>, <h3 class=\"title_song\"><a href=\"https://www.nhaccuatui.com/bai-hat/de-khoanh-khac-mai-dong-day-.UXLE3QX9JsGP.html\" key=\"UXLE3QX9JsGP\" title=\"Để Khoảnh Khắc Mãi Đong Đầy\">Để Khoảnh Khắc Mãi Đong Đầy</a></h3>, <h3 class=\"title_song\"><a href=\"https://www.nhaccuatui.com/bai-hat/xuan-nay-con-se-ve-.lor9o9uiHrLy.html\" key=\"lor9o9uiHrLy\" title=\"Xuân Này Con Sẽ Về \">Xuân Này Con Sẽ Về </a></h3>, <h3 class=\"title_song\"><a href=\"https://www.nhaccuatui.com/bai-hat/dung-roi-xa-toi-.mW0H4JMCKG4R.html\" key=\"mW0H4JMCKG4R\" title=\"Đừng Rời Xa Tôi\">Đừng Rời Xa Tôi</a></h3>, <h3 class=\"title_song\"><a href=\"https://www.nhaccuatui.com/bai-hat/vo-dj-dung-anh-remix-2018-.vIzDr60j4Dhw.html\" key=\"vIzDr60j4Dhw\" title=\"Vỡ (DJ Dũng Anh Remix 2018)\">Vỡ (DJ Dũng Anh Remix 2018)</a></h3>, <h3 class=\"title_song\"><a href=\"https://www.nhaccuatui.com/bai-hat/trai-dat-dep-nhat-khi-co-em-beat-.yC3rnXvika7W.html\" key=\"yC3rnXvika7W\" title=\"Trái Đất Đẹp Nhất Khi Có Em Beat\">Trái Đất Đẹp Nhất Khi Có Em Beat</a></h3>, <h3 class=\"title_song\"><a href=\"https://www.nhaccuatui.com/bai-hat/noi-toi-thuoc-ve-.PQ93sGtLnRGb.html\" key=\"PQ93sGtLnRGb\" title=\"Nơi Tôi Thuộc Về\">Nơi Tôi Thuộc Về</a></h3>, <h3 class=\"title_song\"><a href=\"https://www.nhaccuatui.com/bai-hat/anh-cho-em-mua-xuan-cap-doi-hoan-hao-tru-tinh-bolero-.0exixhYD6J7e.html\" key=\"0exixhYD6J7e\" title=\"Anh Cho Em Mùa Xuân (Cặp Đôi Hoàn Hảo - Trữ Tình &amp; Bolero)\">Anh Cho Em Mùa Xuân (Cặp Đôi Hoàn Hảo - Trữ Tình &amp; Bolero)</a></h3>, <h3 class=\"title_song\"><a href=\"https://www.nhaccuatui.com/bai-hat/try-giong-hat-viet-2015-.kJveWI6AD6wz.html\" key=\"kJveWI6AD6wz\" title=\"Try (Giọng Hát Việt 2015)\">Try (Giọng Hát Việt 2015)</a></h3>, <h3 class=\"title_song\"><a href=\"https://www.nhaccuatui.com/bai-hat/giot-suong-tren-mi-mat-the-remix-hoa-am-anh-sang-2016-.dVrerFL6Dl8f.html\" key=\"dVrerFL6Dl8f\" title=\"Giọt Sương Trên Mí Mắt (The Remix - Hòa Âm Ánh Sáng 2016)\">Giọt Sương Trên Mí Mắt (The Remix - Hòa Âm Ánh Sáng 2016)</a></h3>, <h3 class=\"title_song\"><a href=\"https://www.nhaccuatui.com/bai-hat/loi-tinh-gio-may-cap-doi-hoan-hao-tru-tinh-bolero-.KtKGKryQtosA.html\" key=\"KtKGKryQtosA\" title=\"Lời Tình Gió Mây (Cặp Đôi Hoàn Hảo - Trữ Tình &amp; Bolero)\">Lời Tình Gió Mây (Cặp Đôi Hoàn Hảo - Trữ Tình &amp; Bolero)</a></h3>, <h3 class=\"title_song\"><a href=\"https://www.nhaccuatui.com/bai-hat/lien-khuc-cau-chuyen-dau-nam-gala-nhac-viet-11-.K5VwrDyuorNr.html\" key=\"K5VwrDyuorNr\" title=\"Liên Khúc Câu Chuyện Đầu Năm (Gala Nhạc Việt 11)\">Liên Khúc Câu Chuyện Đầu Năm (Gala Nhạc Việt 11)</a></h3>, <h3 class=\"title_song\"><a href=\"https://www.nhaccuatui.com/bai-hat/mashup-em-khong-sai-chung-ta-sai-hon-ca-yeu-hoa-no-khong-mau-live-.DRqyeNqd2Wg2.html\" key=\"DRqyeNqd2Wg2\" title=\"Mashup Em Không Sai Chúng Ta Sai - Hơn Cả Yêu - Hoa Nở Không Màu (Live)\">Mashup Em Không Sai Chúng Ta Sai - Hơn Cả Yêu - Hoa Nở Không Màu (Live)</a></h3>, <h3 class=\"title_song\"><a href=\"https://www.nhaccuatui.com/bai-hat/phut-giay-toa-sang-.6Jsr3enRB0rd.html\" key=\"6Jsr3enRB0rd\" title=\"Phút Giây Tỏa Sáng\">Phút Giây Tỏa Sáng</a></h3>, <h3 class=\"title_song\"><a href=\"https://www.nhaccuatui.com/bai-hat/anh-nang-cua-anh-cover-.G5r6CS31zV6h.html\" key=\"G5r6CS31zV6h\" title=\"Ánh Nắng Của Anh Cover\">Ánh Nắng Của Anh Cover</a></h3>, <h3 class=\"title_song\"><a href=\"https://www.nhaccuatui.com/bai-hat/chua-bao-gio-cover-.cV55woxJQM6N.html\" key=\"cV55woxJQM6N\" title=\"Chưa Bao Giờ Cover\">Chưa Bao Giờ Cover</a></h3>, <h3 class=\"title_song\"><a href=\"https://www.nhaccuatui.com/bai-hat/sau-tat-ca-this-love-the-remix-hoa-am-anh-sang-2016-.thyqaaWPvPoF.html\" key=\"thyqaaWPvPoF\" title=\"Sau Tất Cả, This Love (The Remix - Hòa Âm Ánh Sáng 2016)\">Sau Tất Cả, This Love (The Remix - Hòa Âm Ánh Sáng 2016)</a></h3>, <h3 class=\"title_song\"><a href=\"https://www.nhaccuatui.com/bai-hat/ngay-mai-ban-mai-tinh-yeu-giong-hat-viet-2015-.xjlMi0CR7rx9.html\" key=\"xjlMi0CR7rx9\" title=\"Ngày Mai, Ban Mai Tình Yêu (Giọng Hát Việt 2015)\">Ngày Mai, Ban Mai Tình Yêu (Giọng Hát Việt 2015)</a></h3>, <h3 class=\"title_song\"><a href=\"https://www.nhaccuatui.com/bai-hat/hon-ca-yeu-.MyE5VbhqnLgU.html\" key=\"MyE5VbhqnLgU\" title=\"Hơn Cả Yêu\">Hơn Cả Yêu</a></h3>, <h3 class=\"title_song\"><a href=\"https://www.nhaccuatui.com/bai-hat/chac-ai-do-se-ve-cover-.MPA0bIRZs1He.html\" key=\"MPA0bIRZs1He\" title=\"Chắc Ai Đó Sẽ Về Cover\">Chắc Ai Đó Sẽ Về Cover</a></h3>, <h3 class=\"title_song\"><a href=\"https://www.nhaccuatui.com/bai-hat/chac-ai-do-se-ve-giong-hat-viet-2015-.z9nFmll1QeSx.html\" key=\"z9nFmll1QeSx\" title=\"Chắc Ai Đó Sẽ Về (Giọng Hát Việt 2015)\">Chắc Ai Đó Sẽ Về (Giọng Hát Việt 2015)</a></h3>, <h3 class=\"title_song\"><a href=\"https://www.nhaccuatui.com/bai-hat/cung-danh-thoi-remix-.VJJwbIhG5yHx.html\" key=\"VJJwbIhG5yHx\" title=\"Cũng Đành Thôi Remix\">Cũng Đành Thôi Remix</a></h3>, <h3 class=\"title_song\"><a href=\"https://www.nhaccuatui.com/bai-hat/nam-ay-beat-.iRybGnyvWtrz.html\" key=\"iRybGnyvWtrz\" title=\"Năm Ấy Beat\">Năm Ấy Beat</a></h3>, <h3 class=\"title_song\"><a href=\"https://www.nhaccuatui.com/bai-hat/ngay-dau-tien-.YhHm3pfxcuKQ.html\" key=\"YhHm3pfxcuKQ\" title=\"Ngày Đầu Tiên\">Ngày Đầu Tiên</a></h3>, <h3 class=\"title_song\"><a href=\"https://www.nhaccuatui.com/bai-hat/het-thuong-can-nho-.2YI0awh3IH8A.html\" key=\"2YI0awh3IH8A\" title=\"Hết Thương Cạn Nhớ\">Hết Thương Cạn Nhớ</a></h3>, <h3 class=\"title_song\"><a href=\"https://www.nhaccuatui.com/bai-hat/try-giong-hat-viet-2015-.nZU5YFLfJ0sy.html\" key=\"nZU5YFLfJ0sy\" title=\"Try (Giọng Hát Việt 2015)\">Try (Giọng Hát Việt 2015)</a></h3>, <h3 class=\"title_song\"><a href=\"https://www.nhaccuatui.com/bai-hat/cu-tho-di-.W9fxPEs6LPJc.html\" key=\"W9fxPEs6LPJc\" title=\"Cứ Thở Đi\">Cứ Thở Đi</a></h3>, <h3 class=\"title_song\"><a href=\"https://www.nhaccuatui.com/bai-hat/lam-lem-dieu-ky-.moL7Y5g8FKHB.html\" key=\"moL7Y5g8FKHB\" title=\"Lấm Lem Diệu Kỳ\">Lấm Lem Diệu Kỳ</a></h3>]\n"
     ]
    }
   ],
   "source": [
    "page_input = int(input('Bạn muốn thu thập mấy trang? '))\n",
    "page_source = BeautifulSoup(driver.page_source)\n",
    "songs = page_source.find_all('h3',class_=\"title_song\")\n",
    "try:\n",
    "    driver.find_elements(by=By.CLASS_NAME, value = 'number ')[11]\n",
    "    for page in range(1,page_input):\n",
    "        print(page)\n",
    "\n",
    "        if page==2 or page==3 :\n",
    "            driver.find_elements(by=By.CLASS_NAME, value = 'number ')[12].click()\n",
    "            sleep(2)\n",
    "            page_source = BeautifulSoup(driver.page_source)\n",
    "            songs = songs + page_source.find_all('h3',class_=\"title_song\")  \n",
    "        if page==1:\n",
    "            driver.find_elements(by=By.CLASS_NAME, value = 'number ')[10].click()\n",
    "            page_source = BeautifulSoup(driver.page_source)\n",
    "            songs = songs + page_source.find_all('h3',class_=\"title_song\")        \n",
    "            sleep(2)\n",
    "        if page>=4:\n",
    "            driver.find_elements(by=By.CLASS_NAME, value = 'number ')[9].click()\n",
    "            sleep(2)\n",
    "            page_source = BeautifulSoup(driver.page_source)\n",
    "            songs = songs + page_source.find_all('h3',class_=\"title_song\")         \n",
    "\n",
    "except:\n",
    "    for page in range(1,page_input+1):\n",
    "        if page==2:\n",
    "            continue\n",
    "        else:\n",
    "            driver.find_elements(by=By.CLASS_NAME, value = 'number ')[page].click()\n",
    "            sleep(2)\n",
    "            page_source = BeautifulSoup(driver.page_source)\n",
    "            songs = songs + page_source.find_all('h3',class_=\"title_song\")  \n",
    "print(songs)\n"
   ]
  },
  {
   "cell_type": "code",
   "execution_count": 6,
   "metadata": {},
   "outputs": [
    {
     "name": "stdout",
     "output_type": "stream",
     "text": [
      "https://www.nhaccuatui.com/bai-hat/chi-mot-cau-.MOyuTvRqS5Zm.html\n"
     ]
    },
    {
     "name": "stderr",
     "output_type": "stream",
     "text": [
      "C:\\Users\\Admin\\AppData\\Local\\Temp\\ipykernel_16992\\2809126471.py:22: DeprecationWarning: find_element_by_xpath is deprecated. Please use find_element(by=By.XPATH, value=xpath) instead\n",
      "  down = driver.find_element_by_xpath('//*[@id=\"btnDownloadBox\"]').click()\n",
      "C:\\Users\\Admin\\AppData\\Local\\Temp\\ipykernel_16992\\2809126471.py:24: DeprecationWarning: find_element_by_xpath is deprecated. Please use find_element(by=By.XPATH, value=xpath) instead\n",
      "  hihi = driver.find_element_by_xpath('//*[@id=\"downloadBasic\"]').click()\n"
     ]
    },
    {
     "name": "stdout",
     "output_type": "stream",
     "text": [
      "https://www.nhaccuatui.com/bai-hat/em-la-tat-ca-cho-em-den-ngay-mai-ost-.4R63BnTS189H.html\n",
      "https://www.nhaccuatui.com/bai-hat/vo-sieu-sao-sieu-ngo-ost-.7qDUIpzxCGVP.html\n",
      "https://www.nhaccuatui.com/bai-hat/chang-de-em-xa-anh-.tVim8SB88GIY.html\n",
      "https://www.nhaccuatui.com/bai-hat/nam-ay-.ikmrjWr9JZVC.html\n",
      "https://www.nhaccuatui.com/bai-hat/yeu-la-tha-thu-cover-.QomCKc9GqeaL.html\n",
      "https://www.nhaccuatui.com/bai-hat/giau-mat-.1WX7Yumwoghg.html\n",
      "https://www.nhaccuatui.com/bai-hat/anh-nang-cua-anh-.pE3YzsZkrgNj.html\n",
      "https://www.nhaccuatui.com/bai-hat/nguoi-oi-nguoi-o-dung-ve-.TRoNdt4KKT2G.html\n",
      "https://www.nhaccuatui.com/bai-hat/cu-yeu-di-100-ngay-ben-em-ost-.VLXXy7DpWcJP.html\n",
      "https://www.nhaccuatui.com/bai-hat/the-la-tet-.RCQ8mem5EMOo.html\n",
      "https://www.nhaccuatui.com/bai-hat/ve-noi-toi-sinh-ra-.aOk0MoozpDfI.html\n",
      "https://www.nhaccuatui.com/bai-hat/ta-con-yeu-nhau-.sP0tNl0x4W3N.html\n",
      "https://www.nhaccuatui.com/bai-hat/em-khong-sai-chung-ta-sai-cover-.KfxbGxMrPne2.html\n",
      "https://www.nhaccuatui.com/bai-hat/chac-ai-do-se-ve-giong-hat-viet-2015-.CABOhL9dxCvx.html\n",
      "https://www.nhaccuatui.com/bai-hat/trai-dat-dep-nhat-khi-co-em-.JPvSFraXdEAT.html\n",
      "https://www.nhaccuatui.com/bai-hat/huyen-thoai-me-giong-hat-viet-2015-.B7HIdGYA1WF3.html\n",
      "https://www.nhaccuatui.com/bai-hat/vo-sieu-sao-sieu-ngo-ost-nhac-chuong-.VJfzKy42G4jv.html\n",
      "https://www.nhaccuatui.com/bai-hat/nam-ay-beat-.GodfgoxWlDEh.html\n",
      "https://www.nhaccuatui.com/bai-hat/nguoi-oi-nguoi-o-dung-ve-acoustic-version-.Y61lrz0PDY7e.html\n",
      "https://www.nhaccuatui.com/bai-hat/im-not-the-only-one-giong-hat-viet-2015-.DDxfGR4tnSTU.html\n",
      "https://www.nhaccuatui.com/bai-hat/cho-nguoi-cap-doi-hoan-hao-tru-tinh-bolero-.8DdI7NdgPuNG.html\n",
      "https://www.nhaccuatui.com/bai-hat/vo-sieu-sao-sieu-ngo-ost-beat-.LbQEr6bKN3E4.html\n",
      "https://www.nhaccuatui.com/bai-hat/hon-ca-yeu-beat-phoi-.lyex9oslYTY5.html\n",
      "https://www.nhaccuatui.com/bai-hat/anh-dang-o-dau-day-anh-cover-.tYitrHj6aKy6.html\n",
      "https://www.nhaccuatui.com/bai-hat/attention-live-cover-.zbC9rTBzSZti.html\n",
      "https://www.nhaccuatui.com/bai-hat/da-hon-mot-lan-i-believe-i-can-fly-giong-hat-viet-2015-.Wj0yUrMVbrTq.html\n",
      "https://www.nhaccuatui.com/bai-hat/lau-dai-tinh-ai-cap-doi-hoan-hao-tru-tinh-bolero-.xMDs4jbow7jr.html\n",
      "https://www.nhaccuatui.com/bai-hat/trai-tim-ve-nha-.fpsqcnldwGwG.html\n",
      "https://www.nhaccuatui.com/bai-hat/anh-nang-cua-anh-cho-em-den-ngay-mai-ost-beat-.4SHfLqFHIia8.html\n",
      "https://www.nhaccuatui.com/bai-hat/le-da-cap-doi-hoan-hao-tru-tinh-bolero-.0bHPhO5zcbbP.html\n",
      "https://www.nhaccuatui.com/bai-hat/yeu-xa-giong-hat-viet-2015-.go2TmwPrccIn.html\n",
      "https://www.nhaccuatui.com/bai-hat/anh-nang-cua-anh-live-.GUVXdSFOMHpC.html\n",
      "https://www.nhaccuatui.com/bai-hat/chay-di-song-oi-giong-hat-viet-2015-.CIM611HA2Drv.html\n",
      "https://www.nhaccuatui.com/bai-hat/neu-nhu-anh-den-giong-hat-viet-2015-.PY4e37ZCjk9D.html\n",
      "https://www.nhaccuatui.com/bai-hat/hello-giong-hat-viet-2015-.ARkJVczAZx5n.html\n",
      "https://www.nhaccuatui.com/bai-hat/tinh-cha-giong-hat-viet-2015-.07VHriEtv5qJ.html\n",
      "https://www.nhaccuatui.com/bai-hat/bai-khong-ten-cuoi-cung-cap-doi-hoan-hao-tru-tinh-bolero-.8Uh82PAeGORE.html\n",
      "https://www.nhaccuatui.com/bai-hat/cung-danh-thoi-beat-.d4F9zF6MC03O.html\n",
      "https://www.nhaccuatui.com/bai-hat/ta-con-yeu-nhau-live-.JMqJpCMv3fDu.html\n",
      "https://www.nhaccuatui.com/bai-hat/co-tat-ca-nhung-thieu-anh-cover-.MjHcyI1KcD8t.html\n",
      "https://www.nhaccuatui.com/bai-hat/giau-mat-beat-.lsnk1WTVri9Q.html\n",
      "https://www.nhaccuatui.com/bai-hat/cung-danh-thoi-thu-toi-mix-.MeipAPbKd81L.html\n",
      "https://www.nhaccuatui.com/bai-hat/het-thuong-can-nho-beat-.ORRU2rgoVsp9.html\n",
      "https://www.nhaccuatui.com/bai-hat/nguoi-oi-nguoi-o-dung-ve-beat-.zyQqhhRyuv61.html\n",
      "https://www.nhaccuatui.com/bai-hat/yeu-duoc-khong-beat-.lGC822mcsxbv.html\n",
      "https://www.nhaccuatui.com/bai-hat/con-yeu-dau-ai-roi-di-beat-.pSepMuc9EvYG.html\n",
      "https://www.nhaccuatui.com/bai-hat/nguoi-oi-nguoi-o-dung-ve-lan-song-xanh-party-2020-.M43KPutNSFcs.html\n",
      "https://www.nhaccuatui.com/bai-hat/gui-ngan-loi-yeu-.sUIYrP4nObvu.html\n",
      "https://www.nhaccuatui.com/bai-hat/chao-ngay-moi-cua-toi-.wmtPm57iglLm.html\n",
      "https://www.nhaccuatui.com/bai-hat/gui-ngan-loi-yeu-cover-.hU75EIxYSkh4.html\n",
      "https://www.nhaccuatui.com/bai-hat/diu-dang-em-den-cover-.ioAWQrY6R1HW.html\n",
      "https://www.nhaccuatui.com/bai-hat/mashup-love-songs-mama-viet-nam-2017-.DWxABm6aJ0nj.html\n",
      "https://www.nhaccuatui.com/bai-hat/gio-mua-xuan-toi-cap-doi-hoan-hao-tru-tinh-bolero-.qWY2qDwNiqAf.html\n",
      "https://www.nhaccuatui.com/bai-hat/cung-danh-thoi-version-rap-.pPfZegg59bot.html\n",
      "https://www.nhaccuatui.com/bai-hat/chay-di-song-oi-giong-hat-viet-2015-.Oi254x6BZDMM.html\n",
      "https://www.nhaccuatui.com/bai-hat/khong-the-cung-nhau-suot-kiep-cover-.4S7SFCeq25cI.html\n",
      "https://www.nhaccuatui.com/bai-hat/mashup-anh-nang-cua-anh-cung-danh-thoi-tim-mot-nua-co-don-yeu-tim-anh-dang-noi-dau-this-love-.QZ33INEWINSY.html\n",
      "https://www.nhaccuatui.com/bai-hat/sau-tim-thiep-hong-cap-doi-hoan-hao-tru-tinh-bolero-.49RHpZ60vcE4.html\n",
      "https://www.nhaccuatui.com/bai-hat/sao-anh-no-danh-quen-cap-doi-hoan-hao-tru-tinh-bolero-.M4tRjnJPcjIl.html\n",
      "https://www.nhaccuatui.com/bai-hat/xin-cho-toi-cap-doi-hoan-hao-tru-tinh-bolero-.hpntoIME8d0q.html\n",
      "https://www.nhaccuatui.com/bai-hat/phuong-buon-ngay-buon-cap-doi-hoan-hao-tru-tinh-bolero-.DVZ9tmf36ZGn.html\n",
      "https://www.nhaccuatui.com/bai-hat/toi-di-giua-hoang-hon-cap-doi-hoan-hao-tru-tinh-bolero-.FSufl9whHbYh.html\n",
      "https://www.nhaccuatui.com/bai-hat/anh-nang-cua-anh-nightcore-.2u1BYoVWPU6h.html\n",
      "https://www.nhaccuatui.com/bai-hat/de-khoanh-khac-mai-dong-day-.UXLE3QX9JsGP.html\n",
      "https://www.nhaccuatui.com/bai-hat/xuan-nay-con-se-ve-.lor9o9uiHrLy.html\n",
      "https://www.nhaccuatui.com/bai-hat/dung-roi-xa-toi-.mW0H4JMCKG4R.html\n",
      "https://www.nhaccuatui.com/bai-hat/trai-dat-dep-nhat-khi-co-em-beat-.yC3rnXvika7W.html\n",
      "https://www.nhaccuatui.com/bai-hat/noi-toi-thuoc-ve-.PQ93sGtLnRGb.html\n",
      "https://www.nhaccuatui.com/bai-hat/anh-cho-em-mua-xuan-cap-doi-hoan-hao-tru-tinh-bolero-.0exixhYD6J7e.html\n",
      "https://www.nhaccuatui.com/bai-hat/try-giong-hat-viet-2015-.kJveWI6AD6wz.html\n",
      "https://www.nhaccuatui.com/bai-hat/loi-tinh-gio-may-cap-doi-hoan-hao-tru-tinh-bolero-.KtKGKryQtosA.html\n",
      "https://www.nhaccuatui.com/bai-hat/lien-khuc-cau-chuyen-dau-nam-gala-nhac-viet-11-.K5VwrDyuorNr.html\n",
      "https://www.nhaccuatui.com/bai-hat/mashup-em-khong-sai-chung-ta-sai-hon-ca-yeu-hoa-no-khong-mau-live-.DRqyeNqd2Wg2.html\n",
      "https://www.nhaccuatui.com/bai-hat/phut-giay-toa-sang-.6Jsr3enRB0rd.html\n",
      "https://www.nhaccuatui.com/bai-hat/anh-nang-cua-anh-cover-.G5r6CS31zV6h.html\n",
      "https://www.nhaccuatui.com/bai-hat/chua-bao-gio-cover-.cV55woxJQM6N.html\n",
      "https://www.nhaccuatui.com/bai-hat/ngay-mai-ban-mai-tinh-yeu-giong-hat-viet-2015-.xjlMi0CR7rx9.html\n",
      "https://www.nhaccuatui.com/bai-hat/hon-ca-yeu-.MyE5VbhqnLgU.html\n",
      "https://www.nhaccuatui.com/bai-hat/chac-ai-do-se-ve-cover-.MPA0bIRZs1He.html\n",
      "https://www.nhaccuatui.com/bai-hat/chac-ai-do-se-ve-giong-hat-viet-2015-.z9nFmll1QeSx.html\n",
      "https://www.nhaccuatui.com/bai-hat/nam-ay-beat-.iRybGnyvWtrz.html\n",
      "https://www.nhaccuatui.com/bai-hat/ngay-dau-tien-.YhHm3pfxcuKQ.html\n",
      "https://www.nhaccuatui.com/bai-hat/het-thuong-can-nho-.2YI0awh3IH8A.html\n",
      "https://www.nhaccuatui.com/bai-hat/try-giong-hat-viet-2015-.nZU5YFLfJ0sy.html\n",
      "https://www.nhaccuatui.com/bai-hat/cu-tho-di-.W9fxPEs6LPJc.html\n",
      "https://www.nhaccuatui.com/bai-hat/lam-lem-dieu-ky-.moL7Y5g8FKHB.html\n"
     ]
    }
   ],
   "source": [
    "all_profile_URL = []\n",
    "for i in range(0,len(songs)):\n",
    "    name = songs[i].find('a').get_text()\n",
    "    # print(name)\n",
    "\n",
    "    if name.find('Remix') == -1:\n",
    "        profiles = songs[i].find_all('a',title = name)\n",
    "        \n",
    "        for profile in profiles:\n",
    "            profile_URL = profile.get_attribute_list('href')\n",
    "\n",
    "        for x in range(0,len(profile_URL)):\n",
    "            if profile_URL not in all_profile_URL:\n",
    "                all_profile_URL.append(profile_URL[x])\n",
    "\n",
    "for a in range(0, len(all_profile_URL)):\n",
    "    driver.get(all_profile_URL[a])\n",
    "    print(all_profile_URL[a])\n",
    "    TimeoutError(5)\n",
    "    sleep(14)\n",
    "    try:\n",
    "        down = driver.find_element_by_xpath('//*[@id=\"btnDownloadBox\"]').click()\n",
    "        sleep(5)\n",
    "        hihi = driver.find_element_by_xpath('//*[@id=\"downloadBasic\"]').click()\n",
    "        sleep(5)\n",
    "    except:\n",
    "        continue\n",
    "            "
   ]
  },
  {
   "cell_type": "code",
   "execution_count": 7,
   "metadata": {},
   "outputs": [],
   "source": [
    "from minio import Minio\n",
    "import glob\n",
    "import os\n",
    "client = Minio(\n",
    "    \"lakedpaapi-fis-mbf-dplat.apps.xplat.fis.com.vn\",\n",
    "    access_key=\"aIihBowxHeRedR9X\",\n",
    "    secret_key=\"FHxkbliBYIcf3fgUyPy9XWyUADDhkfvm\",\n",
    "    secure = False\n",
    "    )\n",
    "\n",
    "\n",
    "def upload_local_directory_to_minio(local_path, bucket_name, minio_path):\n",
    "    assert os.path.isdir(local_path)\n",
    "\n",
    "    for local_file in glob.glob(local_path + '/**'):\n",
    "        local_file = local_file.replace(os.sep, \"/\") \n",
    "        if not os.path.isfile(local_file):\n",
    "            upload_local_directory_to_minio(\n",
    "                local_file, bucket_name, minio_path + \"/\" + os.path.basename(local_file))\n",
    "        else:\n",
    "            remote_path = os.path.join(\n",
    "                minio_path, local_file[1 + len(local_path):])\n",
    "            remote_path = remote_path.replace(\n",
    "                os.sep, \"/\") \n",
    "            client.fput_object(bucket_name, remote_path, local_file)\n",
    "\n",
    "upload_local_directory_to_minio('C:/nhaccuatui', 'nhaccuatui', 'Duc Phuc')"
   ]
  }
 ],
 "metadata": {
  "interpreter": {
   "hash": "231b793e72510f63263cf75731d759da8776d8c74c3ed2dbefa0f0827e58fa6e"
  },
  "kernelspec": {
   "display_name": "Python 3.9.12 64-bit (windows store)",
   "language": "python",
   "name": "python3"
  },
  "language_info": {
   "codemirror_mode": {
    "name": "ipython",
    "version": 3
   },
   "file_extension": ".py",
   "mimetype": "text/x-python",
   "name": "python",
   "nbconvert_exporter": "python",
   "pygments_lexer": "ipython3",
   "version": "3.9.12"
  },
  "orig_nbformat": 4
 },
 "nbformat": 4,
 "nbformat_minor": 2
}
